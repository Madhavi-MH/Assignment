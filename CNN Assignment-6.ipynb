{
 "cells": [
  {
   "cell_type": "code",
   "execution_count": 1,
   "metadata": {},
   "outputs": [],
   "source": [
    "from tensorflow.keras.models import Sequential\n",
    "from tensorflow.keras.layers import Dense\n",
    "from tensorflow.keras.layers import Convolution2D\n",
    "from tensorflow.keras.layers import MaxPooling2D\n",
    "from tensorflow.keras.layers import Flatten"
   ]
  },
  {
   "cell_type": "code",
   "execution_count": 2,
   "metadata": {},
   "outputs": [
    {
     "name": "stderr",
     "output_type": "stream",
     "text": [
      "Using TensorFlow backend.\n"
     ]
    }
   ],
   "source": [
    "from keras.preprocessing.image import ImageDataGenerator\n",
    "train_datagen = ImageDataGenerator(rescale = 1./255,shear_range = 0.2,zoom_range = 0.2,horizontal_flip = True)\n",
    "test_datagen = ImageDataGenerator(rescale = 1./255)"
   ]
  },
  {
   "cell_type": "code",
   "execution_count": 3,
   "metadata": {},
   "outputs": [
    {
     "name": "stdout",
     "output_type": "stream",
     "text": [
      "Found 100 images belonging to 5 classes.\n",
      "Found 50 images belonging to 5 classes.\n"
     ]
    }
   ],
   "source": [
    "x_train = train_datagen.flow_from_directory(r\"C:\\Users\\taraka\\Downloads\\things data\\things data\\trainset\",target_size = (64,64),batch_size = 32,class_mode = \"categorical\")\n",
    "x_test = test_datagen.flow_from_directory(r\"C:\\Users\\taraka\\Downloads\\things data\\things data\\testset\",target_size = (64,64),batch_size = 32,class_mode = \"categorical\")"
   ]
  },
  {
   "cell_type": "code",
   "execution_count": 4,
   "metadata": {},
   "outputs": [],
   "source": [
    "model = Sequential()"
   ]
  },
  {
   "cell_type": "code",
   "execution_count": 5,
   "metadata": {},
   "outputs": [
    {
     "name": "stdout",
     "output_type": "stream",
     "text": [
      "WARNING:tensorflow:From D:\\Anaconda\\lib\\site-packages\\tensorflow\\python\\ops\\init_ops.py:1251: calling VarianceScaling.__init__ (from tensorflow.python.ops.init_ops) with dtype is deprecated and will be removed in a future version.\n",
      "Instructions for updating:\n",
      "Call initializer instance with the dtype argument instead of passing it to the constructor\n"
     ]
    }
   ],
   "source": [
    "model.add(Convolution2D(32,(3,3),input_shape = (64,64,3),activation = \"relu\"))"
   ]
  },
  {
   "cell_type": "code",
   "execution_count": 6,
   "metadata": {},
   "outputs": [],
   "source": [
    "model.add(Flatten())"
   ]
  },
  {
   "cell_type": "code",
   "execution_count": 7,
   "metadata": {},
   "outputs": [
    {
     "name": "stdout",
     "output_type": "stream",
     "text": [
      "WARNING:tensorflow:From D:\\Anaconda\\lib\\site-packages\\tensorflow\\python\\keras\\initializers.py:119: calling RandomUniform.__init__ (from tensorflow.python.ops.init_ops) with dtype is deprecated and will be removed in a future version.\n",
      "Instructions for updating:\n",
      "Call initializer instance with the dtype argument instead of passing it to the constructor\n"
     ]
    }
   ],
   "source": [
    "model.add(Dense(units = 512,activation = \"relu\",kernel_initializer = \"random_uniform\"))"
   ]
  },
  {
   "cell_type": "code",
   "execution_count": 8,
   "metadata": {},
   "outputs": [],
   "source": [
    "model.add(Dense(units = 5,activation = \"softmax\",kernel_initializer = \"random_uniform\"))"
   ]
  },
  {
   "cell_type": "code",
   "execution_count": 9,
   "metadata": {},
   "outputs": [],
   "source": [
    "model.compile(\"sgd\",loss = \"categorical_crossentropy\",metrics = [\"accuracy\"])"
   ]
  },
  {
   "cell_type": "code",
   "execution_count": 10,
   "metadata": {},
   "outputs": [
    {
     "name": "stdout",
     "output_type": "stream",
     "text": [
      "Epoch 1/30\n",
      "3/3 [==============================] - 18s 6s/step - loss: 5.0263 - acc: 0.1765 - val_loss: 2.2246 - val_acc: 0.2000\n",
      "Epoch 2/30\n",
      "3/3 [==============================] - 18s 6s/step - loss: 1.6149 - acc: 0.0882 - val_loss: 2.1646 - val_acc: 0.2200\n",
      "Epoch 3/30\n",
      "3/3 [==============================] - 18s 6s/step - loss: 1.6139 - acc: 0.1979 - val_loss: 2.1300 - val_acc: 0.1600\n",
      "Epoch 4/30\n",
      "3/3 [==============================] - 17s 6s/step - loss: 1.5809 - acc: 0.2353 - val_loss: 2.1223 - val_acc: 0.1400\n",
      "Epoch 5/30\n",
      "3/3 [==============================] - 20s 7s/step - loss: 1.5727 - acc: 0.1979 - val_loss: 2.1118 - val_acc: 0.1800\n",
      "Epoch 6/30\n",
      "3/3 [==============================] - 13s 4s/step - loss: 1.6475 - acc: 0.2000 - val_loss: 2.1318 - val_acc: 0.1200\n",
      "Epoch 7/30\n",
      "3/3 [==============================] - 22s 7s/step - loss: 1.5600 - acc: 0.3021 - val_loss: 2.1170 - val_acc: 0.2000\n",
      "Epoch 8/30\n",
      "3/3 [==============================] - 17s 6s/step - loss: 1.5737 - acc: 0.3529 - val_loss: 2.1214 - val_acc: 0.1800\n",
      "Epoch 9/30\n",
      "3/3 [==============================] - 16s 5s/step - loss: 1.5731 - acc: 0.2353 - val_loss: 2.1117 - val_acc: 0.2000\n",
      "Epoch 10/30\n",
      "3/3 [==============================] - 22s 7s/step - loss: 1.5804 - acc: 0.3088 - val_loss: 2.1125 - val_acc: 0.2400\n",
      "Epoch 11/30\n",
      "3/3 [==============================] - 21s 7s/step - loss: 1.5155 - acc: 0.4062 - val_loss: 2.1119 - val_acc: 0.2400\n",
      "Epoch 12/30\n",
      "3/3 [==============================] - 20s 7s/step - loss: 1.5646 - acc: 0.3088 - val_loss: 2.1392 - val_acc: 0.2600\n",
      "Epoch 13/30\n",
      "3/3 [==============================] - 19s 6s/step - loss: 1.5543 - acc: 0.2500 - val_loss: 2.1107 - val_acc: 0.2200\n",
      "Epoch 14/30\n",
      "3/3 [==============================] - 15s 5s/step - loss: 1.5314 - acc: 0.3235 - val_loss: 2.1088 - val_acc: 0.2600\n",
      "Epoch 15/30\n",
      "3/3 [==============================] - 20s 7s/step - loss: 1.5110 - acc: 0.3542 - val_loss: 2.0906 - val_acc: 0.2600\n",
      "Epoch 16/30\n",
      "3/3 [==============================] - 19s 6s/step - loss: 1.4974 - acc: 0.4118 - val_loss: 2.1221 - val_acc: 0.2600\n",
      "Epoch 17/30\n",
      "3/3 [==============================] - 15s 5s/step - loss: 1.5639 - acc: 0.3382 - val_loss: 2.0794 - val_acc: 0.2200\n",
      "Epoch 18/30\n",
      "3/3 [==============================] - 23s 8s/step - loss: 1.5109 - acc: 0.3125 - val_loss: 2.0608 - val_acc: 0.2600\n",
      "Epoch 19/30\n",
      "3/3 [==============================] - 17s 6s/step - loss: 1.5219 - acc: 0.4706 - val_loss: 2.0567 - val_acc: 0.3200\n",
      "Epoch 20/30\n",
      "3/3 [==============================] - 16s 5s/step - loss: 1.5327 - acc: 0.2794 - val_loss: 2.0495 - val_acc: 0.2800\n",
      "Epoch 21/30\n",
      "3/3 [==============================] - 16s 5s/step - loss: 1.5304 - acc: 0.2941 - val_loss: 2.0776 - val_acc: 0.2800\n",
      "Epoch 22/30\n",
      "3/3 [==============================] - 17s 6s/step - loss: 1.4004 - acc: 0.4706 - val_loss: 2.1232 - val_acc: 0.1800\n",
      "Epoch 23/30\n",
      "3/3 [==============================] - 17s 6s/step - loss: 1.5104 - acc: 0.2206 - val_loss: 2.0407 - val_acc: 0.3000\n",
      "Epoch 24/30\n",
      "3/3 [==============================] - 21s 7s/step - loss: 1.4656 - acc: 0.4062 - val_loss: 2.0535 - val_acc: 0.2800\n",
      "Epoch 25/30\n",
      "3/3 [==============================] - 17s 6s/step - loss: 1.4346 - acc: 0.4559 - val_loss: 2.0638 - val_acc: 0.3000\n",
      "Epoch 26/30\n",
      "3/3 [==============================] - 17s 6s/step - loss: 1.3760 - acc: 0.4559 - val_loss: 2.0628 - val_acc: 0.2800\n",
      "Epoch 27/30\n",
      "3/3 [==============================] - 19s 6s/step - loss: 1.4864 - acc: 0.4062 - val_loss: 2.0212 - val_acc: 0.3800\n",
      "Epoch 28/30\n",
      "3/3 [==============================] - 18s 6s/step - loss: 1.3934 - acc: 0.4706 - val_loss: 1.9960 - val_acc: 0.3800\n",
      "Epoch 29/30\n",
      "3/3 [==============================] - 18s 6s/step - loss: 1.4249 - acc: 0.4412 - val_loss: 2.1403 - val_acc: 0.2400\n",
      "Epoch 30/30\n",
      "3/3 [==============================] - 19s 6s/step - loss: 1.4566 - acc: 0.4479 - val_loss: 1.9625 - val_acc: 0.3600\n"
     ]
    },
    {
     "data": {
      "text/plain": [
       "<tensorflow.python.keras.callbacks.History at 0xef6e048>"
      ]
     },
     "execution_count": 10,
     "metadata": {},
     "output_type": "execute_result"
    }
   ],
   "source": [
    "model.fit_generator(x_train,steps_per_epoch =3,epochs = 30,validation_data = x_test,validation_steps = 1.5)"
   ]
  },
  {
   "cell_type": "code",
   "execution_count": 11,
   "metadata": {},
   "outputs": [],
   "source": [
    "model.save(\"things.h5\")"
   ]
  },
  {
   "cell_type": "code",
   "execution_count": null,
   "metadata": {},
   "outputs": [],
   "source": []
  },
  {
   "cell_type": "code",
   "execution_count": null,
   "metadata": {},
   "outputs": [],
   "source": []
  },
  {
   "cell_type": "code",
   "execution_count": null,
   "metadata": {},
   "outputs": [],
   "source": []
  }
 ],
 "metadata": {
  "kernelspec": {
   "display_name": "Python 3",
   "language": "python",
   "name": "python3"
  },
  "language_info": {
   "codemirror_mode": {
    "name": "ipython",
    "version": 3
   },
   "file_extension": ".py",
   "mimetype": "text/x-python",
   "name": "python",
   "nbconvert_exporter": "python",
   "pygments_lexer": "ipython3",
   "version": "3.7.3"
  }
 },
 "nbformat": 4,
 "nbformat_minor": 2
}
